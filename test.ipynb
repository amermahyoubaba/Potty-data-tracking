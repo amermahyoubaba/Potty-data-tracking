{
 "cells": [
  {
   "cell_type": "code",
   "execution_count": 56,
   "metadata": {},
   "outputs": [],
   "source": [
    "import pandas as pd\n",
    "import matplotlib.pyplot as plt"
   ]
  },
  {
   "cell_type": "code",
   "execution_count": 8,
   "metadata": {},
   "outputs": [],
   "source": [
    "dict = {\n",
    "    'client': ['AMMA', 'AMMA', 'AMMA', 'MARO', 'MARO', 'ERER'],\n",
    "    'date': ['2022/04/05', '2022/04/05', '2022/04/05', '2022/04/06', '2022/04/06', '2022/04/07'],\n",
    "    'start_time': ['11:26', '11:45', '11:55', '12:15', '12:25', '12:32'],\n",
    "    'end_time': ['11:31', '11:50', '12:00', '12:20', '12:30', '12:37'],\n",
    "    'urinate_toilet': ['Independent', 'Independent', 'Independent', 'None', 'Independent', 'Accident'],\n",
    "    'bowel_movement': ['Independent', 'Independent', 'Independent', 'None', 'Independent', 'Accident'],\n",
    "    'mand': ['Independent', 'Independent', 'Independent', 'No', 'Independent', 'Prompted'],\n",
    "    'pants_down': ['Independent', 'Independent', 'Independent', 'No', 'Independent', 'Prompted'],\n",
    "    'pants_up': ['Independent', 'Independent', 'Independent', 'No', 'Independent', 'Prompted'],\n",
    "    'flush': ['Independent', 'Independent', 'Independent', 'No', 'Independent', 'Prompted'],\n",
    "    'time_interval': [30, 30, 35, 45, 45, 40]\n",
    "}"
   ]
  },
  {
   "cell_type": "code",
   "execution_count": 55,
   "metadata": {},
   "outputs": [
    {
     "name": "stdout",
     "output_type": "stream",
     "text": [
      "Collecting matplotlib\n",
      "  Downloading matplotlib-3.5.2-cp39-cp39-win_amd64.whl (7.2 MB)\n",
      "     ---------------------------------------- 7.2/7.2 MB 4.7 MB/s eta 0:00:00\n",
      "Collecting fonttools>=4.22.0\n",
      "  Downloading fonttools-4.33.3-py3-none-any.whl (930 kB)\n",
      "     -------------------------------------- 930.9/930.9 KB 5.9 MB/s eta 0:00:00\n",
      "Collecting cycler>=0.10\n",
      "  Using cached cycler-0.11.0-py3-none-any.whl (6.4 kB)\n",
      "Requirement already satisfied: python-dateutil>=2.7 in c:\\users\\amermahyoub\\.virtualenvs\\data_tracking-hzpcthqn\\lib\\site-packages (from matplotlib) (2.8.2)\n",
      "Collecting kiwisolver>=1.0.1\n",
      "  Downloading kiwisolver-1.4.2-cp39-cp39-win_amd64.whl (55 kB)\n",
      "     ---------------------------------------- 55.4/55.4 KB ? eta 0:00:00\n",
      "Requirement already satisfied: packaging>=20.0 in c:\\users\\amermahyoub\\.virtualenvs\\data_tracking-hzpcthqn\\lib\\site-packages (from matplotlib) (21.3)\n",
      "Requirement already satisfied: numpy>=1.17 in c:\\users\\amermahyoub\\.virtualenvs\\data_tracking-hzpcthqn\\lib\\site-packages (from matplotlib) (1.22.3)\n",
      "Requirement already satisfied: pillow>=6.2.0 in c:\\users\\amermahyoub\\.virtualenvs\\data_tracking-hzpcthqn\\lib\\site-packages (from matplotlib) (9.1.0)\n",
      "Requirement already satisfied: pyparsing>=2.2.1 in c:\\users\\amermahyoub\\.virtualenvs\\data_tracking-hzpcthqn\\lib\\site-packages (from matplotlib) (3.0.8)\n",
      "Requirement already satisfied: six>=1.5 in c:\\users\\amermahyoub\\.virtualenvs\\data_tracking-hzpcthqn\\lib\\site-packages (from python-dateutil>=2.7->matplotlib) (1.16.0)\n",
      "Installing collected packages: kiwisolver, fonttools, cycler, matplotlib\n",
      "Successfully installed cycler-0.11.0 fonttools-4.33.3 kiwisolver-1.4.2 matplotlib-3.5.2\n"
     ]
    }
   ],
   "source": [
    "# !pip install matplotlib"
   ]
  },
  {
   "cell_type": "code",
   "execution_count": 10,
   "metadata": {},
   "outputs": [
    {
     "data": {
      "text/html": [
       "<div>\n",
       "<style scoped>\n",
       "    .dataframe tbody tr th:only-of-type {\n",
       "        vertical-align: middle;\n",
       "    }\n",
       "\n",
       "    .dataframe tbody tr th {\n",
       "        vertical-align: top;\n",
       "    }\n",
       "\n",
       "    .dataframe thead th {\n",
       "        text-align: right;\n",
       "    }\n",
       "</style>\n",
       "<table border=\"1\" class=\"dataframe\">\n",
       "  <thead>\n",
       "    <tr style=\"text-align: right;\">\n",
       "      <th></th>\n",
       "      <th>client</th>\n",
       "      <th>date</th>\n",
       "      <th>start_time</th>\n",
       "      <th>end_time</th>\n",
       "      <th>urinate_toilet</th>\n",
       "      <th>bowel_movement</th>\n",
       "      <th>mand</th>\n",
       "      <th>pants_down</th>\n",
       "      <th>pants_up</th>\n",
       "      <th>flush</th>\n",
       "      <th>time_interval</th>\n",
       "    </tr>\n",
       "  </thead>\n",
       "  <tbody>\n",
       "    <tr>\n",
       "      <th>0</th>\n",
       "      <td>AMMA</td>\n",
       "      <td>2022/04/05</td>\n",
       "      <td>11:26</td>\n",
       "      <td>11:31</td>\n",
       "      <td>Independent</td>\n",
       "      <td>Independent</td>\n",
       "      <td>Independent</td>\n",
       "      <td>Independent</td>\n",
       "      <td>Independent</td>\n",
       "      <td>Independent</td>\n",
       "      <td>30</td>\n",
       "    </tr>\n",
       "    <tr>\n",
       "      <th>1</th>\n",
       "      <td>AMMA</td>\n",
       "      <td>2022/04/05</td>\n",
       "      <td>11:45</td>\n",
       "      <td>11:50</td>\n",
       "      <td>Independent</td>\n",
       "      <td>Independent</td>\n",
       "      <td>Independent</td>\n",
       "      <td>Independent</td>\n",
       "      <td>Independent</td>\n",
       "      <td>Independent</td>\n",
       "      <td>30</td>\n",
       "    </tr>\n",
       "    <tr>\n",
       "      <th>2</th>\n",
       "      <td>AMMA</td>\n",
       "      <td>2022/04/05</td>\n",
       "      <td>11:55</td>\n",
       "      <td>12:00</td>\n",
       "      <td>Independent</td>\n",
       "      <td>Independent</td>\n",
       "      <td>Independent</td>\n",
       "      <td>Independent</td>\n",
       "      <td>Independent</td>\n",
       "      <td>Independent</td>\n",
       "      <td>35</td>\n",
       "    </tr>\n",
       "    <tr>\n",
       "      <th>3</th>\n",
       "      <td>MARO</td>\n",
       "      <td>2022/04/06</td>\n",
       "      <td>12:15</td>\n",
       "      <td>12:20</td>\n",
       "      <td>None</td>\n",
       "      <td>None</td>\n",
       "      <td>No</td>\n",
       "      <td>No</td>\n",
       "      <td>No</td>\n",
       "      <td>No</td>\n",
       "      <td>45</td>\n",
       "    </tr>\n",
       "    <tr>\n",
       "      <th>4</th>\n",
       "      <td>MARO</td>\n",
       "      <td>2022/04/06</td>\n",
       "      <td>12:25</td>\n",
       "      <td>12:30</td>\n",
       "      <td>Independent</td>\n",
       "      <td>Independent</td>\n",
       "      <td>Independent</td>\n",
       "      <td>Independent</td>\n",
       "      <td>Independent</td>\n",
       "      <td>Independent</td>\n",
       "      <td>45</td>\n",
       "    </tr>\n",
       "    <tr>\n",
       "      <th>5</th>\n",
       "      <td>ERER</td>\n",
       "      <td>2022/04/07</td>\n",
       "      <td>12:32</td>\n",
       "      <td>12:37</td>\n",
       "      <td>Accident</td>\n",
       "      <td>Accident</td>\n",
       "      <td>Prompted</td>\n",
       "      <td>Prompted</td>\n",
       "      <td>Prompted</td>\n",
       "      <td>Prompted</td>\n",
       "      <td>40</td>\n",
       "    </tr>\n",
       "  </tbody>\n",
       "</table>\n",
       "</div>"
      ],
      "text/plain": [
       "  client        date start_time end_time urinate_toilet bowel_movement  \\\n",
       "0   AMMA  2022/04/05      11:26    11:31    Independent    Independent   \n",
       "1   AMMA  2022/04/05      11:45    11:50    Independent    Independent   \n",
       "2   AMMA  2022/04/05      11:55    12:00    Independent    Independent   \n",
       "3   MARO  2022/04/06      12:15    12:20           None           None   \n",
       "4   MARO  2022/04/06      12:25    12:30    Independent    Independent   \n",
       "5   ERER  2022/04/07      12:32    12:37       Accident       Accident   \n",
       "\n",
       "          mand   pants_down     pants_up        flush  time_interval  \n",
       "0  Independent  Independent  Independent  Independent             30  \n",
       "1  Independent  Independent  Independent  Independent             30  \n",
       "2  Independent  Independent  Independent  Independent             35  \n",
       "3           No           No           No           No             45  \n",
       "4  Independent  Independent  Independent  Independent             45  \n",
       "5     Prompted     Prompted     Prompted     Prompted             40  "
      ]
     },
     "execution_count": 10,
     "metadata": {},
     "output_type": "execute_result"
    }
   ],
   "source": [
    "df = pd.DataFrame(dict)\n",
    "df"
   ]
  },
  {
   "cell_type": "code",
   "execution_count": 11,
   "metadata": {},
   "outputs": [
    {
     "data": {
      "text/plain": [
       "client                    object\n",
       "date              datetime64[ns]\n",
       "start_time                object\n",
       "end_time                  object\n",
       "urinate_toilet            object\n",
       "bowel_movement            object\n",
       "mand                      object\n",
       "pants_down                object\n",
       "pants_up                  object\n",
       "flush                     object\n",
       "time_interval              int64\n",
       "dtype: object"
      ]
     },
     "execution_count": 11,
     "metadata": {},
     "output_type": "execute_result"
    }
   ],
   "source": [
    "df['date'] = pd.to_datetime(df['date'])\n",
    "df.dtypes"
   ]
  },
  {
   "cell_type": "code",
   "execution_count": 13,
   "metadata": {},
   "outputs": [],
   "source": [
    "df.to_csv('test_data.csv')"
   ]
  },
  {
   "cell_type": "code",
   "execution_count": 12,
   "metadata": {},
   "outputs": [
    {
     "data": {
      "text/html": [
       "<div>\n",
       "<style scoped>\n",
       "    .dataframe tbody tr th:only-of-type {\n",
       "        vertical-align: middle;\n",
       "    }\n",
       "\n",
       "    .dataframe tbody tr th {\n",
       "        vertical-align: top;\n",
       "    }\n",
       "\n",
       "    .dataframe thead th {\n",
       "        text-align: right;\n",
       "    }\n",
       "</style>\n",
       "<table border=\"1\" class=\"dataframe\">\n",
       "  <thead>\n",
       "    <tr style=\"text-align: right;\">\n",
       "      <th></th>\n",
       "      <th>client</th>\n",
       "      <th>date</th>\n",
       "      <th>start_time</th>\n",
       "      <th>end_time</th>\n",
       "      <th>urinate_toilet</th>\n",
       "      <th>bowel_movement</th>\n",
       "      <th>mand</th>\n",
       "      <th>pants_down</th>\n",
       "      <th>pants_up</th>\n",
       "      <th>flush</th>\n",
       "      <th>time_interval</th>\n",
       "    </tr>\n",
       "  </thead>\n",
       "  <tbody>\n",
       "    <tr>\n",
       "      <th>0</th>\n",
       "      <td>AMMA</td>\n",
       "      <td>2022-04-05</td>\n",
       "      <td>11:26</td>\n",
       "      <td>11:31</td>\n",
       "      <td>Independent</td>\n",
       "      <td>Independent</td>\n",
       "      <td>Independent</td>\n",
       "      <td>Independent</td>\n",
       "      <td>Independent</td>\n",
       "      <td>Independent</td>\n",
       "      <td>30</td>\n",
       "    </tr>\n",
       "    <tr>\n",
       "      <th>1</th>\n",
       "      <td>AMMA</td>\n",
       "      <td>2022-04-05</td>\n",
       "      <td>11:45</td>\n",
       "      <td>11:50</td>\n",
       "      <td>Independent</td>\n",
       "      <td>Independent</td>\n",
       "      <td>Independent</td>\n",
       "      <td>Independent</td>\n",
       "      <td>Independent</td>\n",
       "      <td>Independent</td>\n",
       "      <td>30</td>\n",
       "    </tr>\n",
       "    <tr>\n",
       "      <th>2</th>\n",
       "      <td>AMMA</td>\n",
       "      <td>2022-04-05</td>\n",
       "      <td>11:55</td>\n",
       "      <td>12:00</td>\n",
       "      <td>Independent</td>\n",
       "      <td>Independent</td>\n",
       "      <td>Independent</td>\n",
       "      <td>Independent</td>\n",
       "      <td>Independent</td>\n",
       "      <td>Independent</td>\n",
       "      <td>35</td>\n",
       "    </tr>\n",
       "    <tr>\n",
       "      <th>3</th>\n",
       "      <td>MARO</td>\n",
       "      <td>2022-04-06</td>\n",
       "      <td>12:15</td>\n",
       "      <td>12:20</td>\n",
       "      <td>None</td>\n",
       "      <td>None</td>\n",
       "      <td>No</td>\n",
       "      <td>No</td>\n",
       "      <td>No</td>\n",
       "      <td>No</td>\n",
       "      <td>45</td>\n",
       "    </tr>\n",
       "    <tr>\n",
       "      <th>4</th>\n",
       "      <td>MARO</td>\n",
       "      <td>2022-04-06</td>\n",
       "      <td>12:25</td>\n",
       "      <td>12:30</td>\n",
       "      <td>Independent</td>\n",
       "      <td>Independent</td>\n",
       "      <td>Independent</td>\n",
       "      <td>Independent</td>\n",
       "      <td>Independent</td>\n",
       "      <td>Independent</td>\n",
       "      <td>45</td>\n",
       "    </tr>\n",
       "  </tbody>\n",
       "</table>\n",
       "</div>"
      ],
      "text/plain": [
       "  client       date start_time end_time urinate_toilet bowel_movement  \\\n",
       "0   AMMA 2022-04-05      11:26    11:31    Independent    Independent   \n",
       "1   AMMA 2022-04-05      11:45    11:50    Independent    Independent   \n",
       "2   AMMA 2022-04-05      11:55    12:00    Independent    Independent   \n",
       "3   MARO 2022-04-06      12:15    12:20           None           None   \n",
       "4   MARO 2022-04-06      12:25    12:30    Independent    Independent   \n",
       "\n",
       "          mand   pants_down     pants_up        flush  time_interval  \n",
       "0  Independent  Independent  Independent  Independent             30  \n",
       "1  Independent  Independent  Independent  Independent             30  \n",
       "2  Independent  Independent  Independent  Independent             35  \n",
       "3           No           No           No           No             45  \n",
       "4  Independent  Independent  Independent  Independent             45  "
      ]
     },
     "execution_count": 12,
     "metadata": {},
     "output_type": "execute_result"
    }
   ],
   "source": [
    "df.head()"
   ]
  },
  {
   "cell_type": "code",
   "execution_count": 12,
   "metadata": {},
   "outputs": [
    {
     "data": {
      "text/plain": [
       "array(['AMMA', 'MARO', 'ERER'], dtype=object)"
      ]
     },
     "execution_count": 12,
     "metadata": {},
     "output_type": "execute_result"
    }
   ],
   "source": [
    "df.client.unique()"
   ]
  },
  {
   "cell_type": "code",
   "execution_count": 26,
   "metadata": {},
   "outputs": [
    {
     "name": "stdout",
     "output_type": "stream",
     "text": [
      "matches\n"
     ]
    }
   ],
   "source": [
    "import re\n",
    "r = re.compile('\\d{2}:\\d{2}')\n",
    "if r.match('11:22 sspm') is not None:\n",
    "   print('matches')"
   ]
  },
  {
   "cell_type": "code",
   "execution_count": 22,
   "metadata": {},
   "outputs": [
    {
     "data": {
      "text/plain": [
       "<re.Match object; span=(0, 5), match='11:22'>"
      ]
     },
     "execution_count": 22,
     "metadata": {},
     "output_type": "execute_result"
    }
   ],
   "source": [
    "r.match('11:22')"
   ]
  },
  {
   "cell_type": "code",
   "execution_count": 27,
   "metadata": {},
   "outputs": [
    {
     "data": {
      "text/plain": [
       "5"
      ]
     },
     "execution_count": 27,
     "metadata": {},
     "output_type": "execute_result"
    }
   ],
   "source": [
    "len('11:22')"
   ]
  },
  {
   "cell_type": "code",
   "execution_count": 26,
   "metadata": {},
   "outputs": [],
   "source": [
    "df = pd.read_csv('test_data.csv')"
   ]
  },
  {
   "cell_type": "code",
   "execution_count": 34,
   "metadata": {},
   "outputs": [
    {
     "data": {
      "text/html": [
       "<div>\n",
       "<style scoped>\n",
       "    .dataframe tbody tr th:only-of-type {\n",
       "        vertical-align: middle;\n",
       "    }\n",
       "\n",
       "    .dataframe tbody tr th {\n",
       "        vertical-align: top;\n",
       "    }\n",
       "\n",
       "    .dataframe thead th {\n",
       "        text-align: right;\n",
       "    }\n",
       "</style>\n",
       "<table border=\"1\" class=\"dataframe\">\n",
       "  <thead>\n",
       "    <tr style=\"text-align: right;\">\n",
       "      <th></th>\n",
       "      <th>Unnamed: 0</th>\n",
       "      <th>client</th>\n",
       "      <th>date</th>\n",
       "      <th>start_time</th>\n",
       "      <th>end_time</th>\n",
       "      <th>urinate_toilet</th>\n",
       "      <th>bowel_movement</th>\n",
       "      <th>mand</th>\n",
       "      <th>pants_down</th>\n",
       "      <th>pants_up</th>\n",
       "      <th>flush</th>\n",
       "      <th>time_interval</th>\n",
       "    </tr>\n",
       "  </thead>\n",
       "  <tbody>\n",
       "    <tr>\n",
       "      <th>0</th>\n",
       "      <td>0</td>\n",
       "      <td>AMMA</td>\n",
       "      <td>2022-04-05</td>\n",
       "      <td>11:26</td>\n",
       "      <td>11:31</td>\n",
       "      <td>Independent</td>\n",
       "      <td>Independent</td>\n",
       "      <td>Independent</td>\n",
       "      <td>Independent</td>\n",
       "      <td>Independent</td>\n",
       "      <td>Independent</td>\n",
       "      <td>30</td>\n",
       "    </tr>\n",
       "    <tr>\n",
       "      <th>1</th>\n",
       "      <td>1</td>\n",
       "      <td>AMMA</td>\n",
       "      <td>2022-04-05</td>\n",
       "      <td>11:45</td>\n",
       "      <td>11:50</td>\n",
       "      <td>Independent</td>\n",
       "      <td>Independent</td>\n",
       "      <td>Independent</td>\n",
       "      <td>Independent</td>\n",
       "      <td>Independent</td>\n",
       "      <td>Independent</td>\n",
       "      <td>30</td>\n",
       "    </tr>\n",
       "    <tr>\n",
       "      <th>2</th>\n",
       "      <td>2</td>\n",
       "      <td>AMMA</td>\n",
       "      <td>2022-04-05</td>\n",
       "      <td>11:55</td>\n",
       "      <td>12:00</td>\n",
       "      <td>Independent</td>\n",
       "      <td>Independent</td>\n",
       "      <td>Independent</td>\n",
       "      <td>Independent</td>\n",
       "      <td>Independent</td>\n",
       "      <td>Independent</td>\n",
       "      <td>35</td>\n",
       "    </tr>\n",
       "    <tr>\n",
       "      <th>3</th>\n",
       "      <td>3</td>\n",
       "      <td>MARO</td>\n",
       "      <td>2022-04-06</td>\n",
       "      <td>12:25</td>\n",
       "      <td>12:30</td>\n",
       "      <td>Independent</td>\n",
       "      <td>Independent</td>\n",
       "      <td>Independent</td>\n",
       "      <td>Independent</td>\n",
       "      <td>Independent</td>\n",
       "      <td>Independent</td>\n",
       "      <td>45</td>\n",
       "    </tr>\n",
       "    <tr>\n",
       "      <th>4</th>\n",
       "      <td>4</td>\n",
       "      <td>MARO</td>\n",
       "      <td>2022-04-06</td>\n",
       "      <td>12:15</td>\n",
       "      <td>12:20</td>\n",
       "      <td>None</td>\n",
       "      <td>None</td>\n",
       "      <td>No</td>\n",
       "      <td>No</td>\n",
       "      <td>No</td>\n",
       "      <td>No</td>\n",
       "      <td>45</td>\n",
       "    </tr>\n",
       "  </tbody>\n",
       "</table>\n",
       "</div>"
      ],
      "text/plain": [
       "   Unnamed: 0 client        date start_time end_time urinate_toilet  \\\n",
       "0           0   AMMA  2022-04-05      11:26    11:31    Independent   \n",
       "1           1   AMMA  2022-04-05      11:45    11:50    Independent   \n",
       "2           2   AMMA  2022-04-05      11:55    12:00    Independent   \n",
       "3           3   MARO  2022-04-06      12:25    12:30    Independent   \n",
       "4           4   MARO  2022-04-06      12:15    12:20           None   \n",
       "\n",
       "  bowel_movement         mand   pants_down     pants_up        flush  \\\n",
       "0    Independent  Independent  Independent  Independent  Independent   \n",
       "1    Independent  Independent  Independent  Independent  Independent   \n",
       "2    Independent  Independent  Independent  Independent  Independent   \n",
       "3    Independent  Independent  Independent  Independent  Independent   \n",
       "4           None           No           No           No           No   \n",
       "\n",
       "   time_interval  \n",
       "0             30  \n",
       "1             30  \n",
       "2             35  \n",
       "3             45  \n",
       "4             45  "
      ]
     },
     "execution_count": 34,
     "metadata": {},
     "output_type": "execute_result"
    }
   ],
   "source": [
    "df.head()"
   ]
  },
  {
   "cell_type": "code",
   "execution_count": 35,
   "metadata": {},
   "outputs": [
    {
     "data": {
      "text/plain": [
       "Unnamed: 0         int64\n",
       "client            object\n",
       "date              object\n",
       "start_time        object\n",
       "end_time          object\n",
       "urinate_toilet    object\n",
       "bowel_movement    object\n",
       "mand              object\n",
       "pants_down        object\n",
       "pants_up          object\n",
       "flush             object\n",
       "time_interval      int64\n",
       "dtype: object"
      ]
     },
     "execution_count": 35,
     "metadata": {},
     "output_type": "execute_result"
    }
   ],
   "source": [
    "df.dtypes"
   ]
  },
  {
   "cell_type": "code",
   "execution_count": 36,
   "metadata": {},
   "outputs": [],
   "source": [
    "# clients = df[\"client\"].unique()\n",
    "# client_picked = st.selectbox('Pick a client', clients)\n",
    "picked_df = df[df[\"client\"] == 'ERER']"
   ]
  },
  {
   "cell_type": "code",
   "execution_count": 37,
   "metadata": {},
   "outputs": [
    {
     "data": {
      "text/html": [
       "<div>\n",
       "<style scoped>\n",
       "    .dataframe tbody tr th:only-of-type {\n",
       "        vertical-align: middle;\n",
       "    }\n",
       "\n",
       "    .dataframe tbody tr th {\n",
       "        vertical-align: top;\n",
       "    }\n",
       "\n",
       "    .dataframe thead th {\n",
       "        text-align: right;\n",
       "    }\n",
       "</style>\n",
       "<table border=\"1\" class=\"dataframe\">\n",
       "  <thead>\n",
       "    <tr style=\"text-align: right;\">\n",
       "      <th></th>\n",
       "      <th>Unnamed: 0</th>\n",
       "      <th>client</th>\n",
       "      <th>date</th>\n",
       "      <th>start_time</th>\n",
       "      <th>end_time</th>\n",
       "      <th>urinate_toilet</th>\n",
       "      <th>bowel_movement</th>\n",
       "      <th>mand</th>\n",
       "      <th>pants_down</th>\n",
       "      <th>pants_up</th>\n",
       "      <th>flush</th>\n",
       "      <th>time_interval</th>\n",
       "    </tr>\n",
       "  </thead>\n",
       "  <tbody>\n",
       "    <tr>\n",
       "      <th>5</th>\n",
       "      <td>5</td>\n",
       "      <td>ERER</td>\n",
       "      <td>2022-04-07</td>\n",
       "      <td>12:32</td>\n",
       "      <td>12:37</td>\n",
       "      <td>Accident</td>\n",
       "      <td>Accident</td>\n",
       "      <td>Prompted</td>\n",
       "      <td>Prompted</td>\n",
       "      <td>Prompted</td>\n",
       "      <td>Prompted</td>\n",
       "      <td>40</td>\n",
       "    </tr>\n",
       "    <tr>\n",
       "      <th>6</th>\n",
       "      <td>6</td>\n",
       "      <td>ERER</td>\n",
       "      <td>2022-05-04</td>\n",
       "      <td>11:34</td>\n",
       "      <td>11:39</td>\n",
       "      <td>Accident</td>\n",
       "      <td>Accident</td>\n",
       "      <td>Independent</td>\n",
       "      <td>Independent</td>\n",
       "      <td>Independent</td>\n",
       "      <td>Prompted</td>\n",
       "      <td>40</td>\n",
       "    </tr>\n",
       "    <tr>\n",
       "      <th>7</th>\n",
       "      <td>7</td>\n",
       "      <td>ERER</td>\n",
       "      <td>2022-05-04</td>\n",
       "      <td>11:34</td>\n",
       "      <td>11:39</td>\n",
       "      <td>Accident</td>\n",
       "      <td>Accident</td>\n",
       "      <td>Independent</td>\n",
       "      <td>Independent</td>\n",
       "      <td>Independent</td>\n",
       "      <td>Prompted</td>\n",
       "      <td>40</td>\n",
       "    </tr>\n",
       "    <tr>\n",
       "      <th>8</th>\n",
       "      <td>8</td>\n",
       "      <td>ERER</td>\n",
       "      <td>2022-05-04</td>\n",
       "      <td>11:34</td>\n",
       "      <td>11:39</td>\n",
       "      <td>Accident</td>\n",
       "      <td>Accident</td>\n",
       "      <td>Independent</td>\n",
       "      <td>Independent</td>\n",
       "      <td>Independent</td>\n",
       "      <td>Prompted</td>\n",
       "      <td>40</td>\n",
       "    </tr>\n",
       "  </tbody>\n",
       "</table>\n",
       "</div>"
      ],
      "text/plain": [
       "   Unnamed: 0 client        date start_time end_time urinate_toilet  \\\n",
       "5           5   ERER  2022-04-07      12:32    12:37       Accident   \n",
       "6           6   ERER  2022-05-04      11:34    11:39       Accident   \n",
       "7           7   ERER  2022-05-04      11:34    11:39       Accident   \n",
       "8           8   ERER  2022-05-04      11:34    11:39       Accident   \n",
       "\n",
       "  bowel_movement         mand   pants_down     pants_up     flush  \\\n",
       "5       Accident     Prompted     Prompted     Prompted  Prompted   \n",
       "6       Accident  Independent  Independent  Independent  Prompted   \n",
       "7       Accident  Independent  Independent  Independent  Prompted   \n",
       "8       Accident  Independent  Independent  Independent  Prompted   \n",
       "\n",
       "   time_interval  \n",
       "5             40  \n",
       "6             40  \n",
       "7             40  \n",
       "8             40  "
      ]
     },
     "execution_count": 37,
     "metadata": {},
     "output_type": "execute_result"
    }
   ],
   "source": [
    "picked_df.head()"
   ]
  },
  {
   "cell_type": "code",
   "execution_count": 49,
   "metadata": {},
   "outputs": [
    {
     "data": {
      "text/html": [
       "<div>\n",
       "<style scoped>\n",
       "    .dataframe tbody tr th:only-of-type {\n",
       "        vertical-align: middle;\n",
       "    }\n",
       "\n",
       "    .dataframe tbody tr th {\n",
       "        vertical-align: top;\n",
       "    }\n",
       "\n",
       "    .dataframe thead th {\n",
       "        text-align: right;\n",
       "    }\n",
       "</style>\n",
       "<table border=\"1\" class=\"dataframe\">\n",
       "  <thead>\n",
       "    <tr style=\"text-align: right;\">\n",
       "      <th></th>\n",
       "      <th>client</th>\n",
       "      <th>start_time</th>\n",
       "      <th>end_time</th>\n",
       "      <th>urinate_toilet</th>\n",
       "      <th>bowel_movement</th>\n",
       "      <th>mand</th>\n",
       "      <th>pants_down</th>\n",
       "      <th>pants_up</th>\n",
       "      <th>flush</th>\n",
       "      <th>time_interval</th>\n",
       "    </tr>\n",
       "    <tr>\n",
       "      <th>date</th>\n",
       "      <th></th>\n",
       "      <th></th>\n",
       "      <th></th>\n",
       "      <th></th>\n",
       "      <th></th>\n",
       "      <th></th>\n",
       "      <th></th>\n",
       "      <th></th>\n",
       "      <th></th>\n",
       "      <th></th>\n",
       "    </tr>\n",
       "  </thead>\n",
       "  <tbody>\n",
       "    <tr>\n",
       "      <th>2022-04-07</th>\n",
       "      <td>ERER</td>\n",
       "      <td>12:32</td>\n",
       "      <td>12:37</td>\n",
       "      <td>Accident</td>\n",
       "      <td>Accident</td>\n",
       "      <td>Prompted</td>\n",
       "      <td>Prompted</td>\n",
       "      <td>Prompted</td>\n",
       "      <td>Prompted</td>\n",
       "      <td>40</td>\n",
       "    </tr>\n",
       "    <tr>\n",
       "      <th>2022-05-04</th>\n",
       "      <td>ERER</td>\n",
       "      <td>11:34</td>\n",
       "      <td>11:39</td>\n",
       "      <td>Accident</td>\n",
       "      <td>Accident</td>\n",
       "      <td>Independent</td>\n",
       "      <td>Independent</td>\n",
       "      <td>Independent</td>\n",
       "      <td>Prompted</td>\n",
       "      <td>40</td>\n",
       "    </tr>\n",
       "    <tr>\n",
       "      <th>2022-05-04</th>\n",
       "      <td>ERER</td>\n",
       "      <td>11:34</td>\n",
       "      <td>11:39</td>\n",
       "      <td>Accident</td>\n",
       "      <td>Accident</td>\n",
       "      <td>Independent</td>\n",
       "      <td>Independent</td>\n",
       "      <td>Independent</td>\n",
       "      <td>Prompted</td>\n",
       "      <td>40</td>\n",
       "    </tr>\n",
       "    <tr>\n",
       "      <th>2022-05-04</th>\n",
       "      <td>ERER</td>\n",
       "      <td>11:34</td>\n",
       "      <td>11:39</td>\n",
       "      <td>Accident</td>\n",
       "      <td>Accident</td>\n",
       "      <td>Independent</td>\n",
       "      <td>Independent</td>\n",
       "      <td>Independent</td>\n",
       "      <td>Prompted</td>\n",
       "      <td>40</td>\n",
       "    </tr>\n",
       "  </tbody>\n",
       "</table>\n",
       "</div>"
      ],
      "text/plain": [
       "           client start_time end_time urinate_toilet bowel_movement  \\\n",
       "date                                                                  \n",
       "2022-04-07   ERER      12:32    12:37       Accident       Accident   \n",
       "2022-05-04   ERER      11:34    11:39       Accident       Accident   \n",
       "2022-05-04   ERER      11:34    11:39       Accident       Accident   \n",
       "2022-05-04   ERER      11:34    11:39       Accident       Accident   \n",
       "\n",
       "                   mand   pants_down     pants_up     flush  time_interval  \n",
       "date                                                                        \n",
       "2022-04-07     Prompted     Prompted     Prompted  Prompted             40  \n",
       "2022-05-04  Independent  Independent  Independent  Prompted             40  \n",
       "2022-05-04  Independent  Independent  Independent  Prompted             40  \n",
       "2022-05-04  Independent  Independent  Independent  Prompted             40  "
      ]
     },
     "execution_count": 49,
     "metadata": {},
     "output_type": "execute_result"
    }
   ],
   "source": [
    "df1 = picked_df.copy()\n",
    "df1.index = pd.to_datetime(df1['date'])\n",
    "df1 = df1.drop(columns = ['Unnamed: 0', 'date'])\n",
    "df1.head()"
   ]
  },
  {
   "cell_type": "code",
   "execution_count": 71,
   "metadata": {},
   "outputs": [
    {
     "ename": "KeyError",
     "evalue": "'Prompted'",
     "output_type": "error",
     "traceback": [
      "\u001b[1;31m---------------------------------------------------------------------------\u001b[0m",
      "\u001b[1;31mKeyError\u001b[0m                                  Traceback (most recent call last)",
      "\u001b[1;32mc:\\Users\\AmerMahyoub\\OneDrive - Adventure ABA\\Documents\\data_tracking\\test.ipynb Cell 18'\u001b[0m in \u001b[0;36m<cell line: 4>\u001b[1;34m()\u001b[0m\n\u001b[0;32m      <a href='vscode-notebook-cell:/c%3A/Users/AmerMahyoub/OneDrive%20-%20Adventure%20ABA/Documents/data_tracking/test.ipynb#ch0000015?line=3'>4</a>\u001b[0m \u001b[39mfor\u001b[39;00m col, row \u001b[39min\u001b[39;00m df1\u001b[39m.\u001b[39miterrows():\n\u001b[0;32m      <a href='vscode-notebook-cell:/c%3A/Users/AmerMahyoub/OneDrive%20-%20Adventure%20ABA/Documents/data_tracking/test.ipynb#ch0000015?line=4'>5</a>\u001b[0m     x \u001b[39m=\u001b[39m row[\u001b[39m'\u001b[39m\u001b[39mmand\u001b[39m\u001b[39m'\u001b[39m]\n\u001b[1;32m----> <a href='vscode-notebook-cell:/c%3A/Users/AmerMahyoub/OneDrive%20-%20Adventure%20ABA/Documents/data_tracking/test.ipynb#ch0000015?line=5'>6</a>\u001b[0m     \u001b[39mif\u001b[39;00m data[x]:\n\u001b[0;32m      <a href='vscode-notebook-cell:/c%3A/Users/AmerMahyoub/OneDrive%20-%20Adventure%20ABA/Documents/data_tracking/test.ipynb#ch0000015?line=6'>7</a>\u001b[0m         data[x] \u001b[39m=\u001b[39m\u001b[39m+\u001b[39m \u001b[39m1\u001b[39m\n\u001b[0;32m      <a href='vscode-notebook-cell:/c%3A/Users/AmerMahyoub/OneDrive%20-%20Adventure%20ABA/Documents/data_tracking/test.ipynb#ch0000015?line=7'>8</a>\u001b[0m     \u001b[39melse\u001b[39;00m:\n",
      "\u001b[1;31mKeyError\u001b[0m: 'Prompted'"
     ]
    }
   ],
   "source": [
    "import plotly.express as px\n",
    "\n",
    "data = {}\n",
    "for col, row in df1.iterrows():\n",
    "    x = row['mand']\n",
    "    if data[x] is not None:\n",
    "        data[x] =+ 1\n",
    "    else:\n",
    "        data[x] = 1\n",
    "data"
   ]
  },
  {
   "cell_type": "code",
   "execution_count": 65,
   "metadata": {},
   "outputs": [
    {
     "data": {
      "application/vnd.plotly.v1+json": {
       "config": {
        "plotlyServerURL": "https://plot.ly"
       },
       "data": [
        {
         "domain": {
          "x": [
           0,
           1
          ],
          "y": [
           0,
           1
          ]
         },
         "hovertemplate": "pop=%{value}<extra></extra>",
         "legendgroup": "",
         "name": "",
         "showlegend": false,
         "textinfo": "percent+label",
         "textposition": "inside",
         "type": "pie",
         "values": [
          40301927,
          9119152,
          190010647,
          33390141,
          16284741,
          44227550,
          4133884,
          11416987,
          9319622,
          13755680,
          6939688,
          12572928,
          8502814,
          7483763,
          2780132,
          108700891,
          5675356,
          3242173,
          6667147,
          28674757,
          3942491,
          1056608,
          301139947,
          3447496,
          26084662
         ]
        }
       ],
       "layout": {
        "legend": {
         "tracegroupgap": 0
        },
        "margin": {
         "t": 60
        },
        "template": {
         "data": {
          "bar": [
           {
            "error_x": {
             "color": "#2a3f5f"
            },
            "error_y": {
             "color": "#2a3f5f"
            },
            "marker": {
             "line": {
              "color": "#E5ECF6",
              "width": 0.5
             },
             "pattern": {
              "fillmode": "overlay",
              "size": 10,
              "solidity": 0.2
             }
            },
            "type": "bar"
           }
          ],
          "barpolar": [
           {
            "marker": {
             "line": {
              "color": "#E5ECF6",
              "width": 0.5
             },
             "pattern": {
              "fillmode": "overlay",
              "size": 10,
              "solidity": 0.2
             }
            },
            "type": "barpolar"
           }
          ],
          "carpet": [
           {
            "aaxis": {
             "endlinecolor": "#2a3f5f",
             "gridcolor": "white",
             "linecolor": "white",
             "minorgridcolor": "white",
             "startlinecolor": "#2a3f5f"
            },
            "baxis": {
             "endlinecolor": "#2a3f5f",
             "gridcolor": "white",
             "linecolor": "white",
             "minorgridcolor": "white",
             "startlinecolor": "#2a3f5f"
            },
            "type": "carpet"
           }
          ],
          "choropleth": [
           {
            "colorbar": {
             "outlinewidth": 0,
             "ticks": ""
            },
            "type": "choropleth"
           }
          ],
          "contour": [
           {
            "colorbar": {
             "outlinewidth": 0,
             "ticks": ""
            },
            "colorscale": [
             [
              0,
              "#0d0887"
             ],
             [
              0.1111111111111111,
              "#46039f"
             ],
             [
              0.2222222222222222,
              "#7201a8"
             ],
             [
              0.3333333333333333,
              "#9c179e"
             ],
             [
              0.4444444444444444,
              "#bd3786"
             ],
             [
              0.5555555555555556,
              "#d8576b"
             ],
             [
              0.6666666666666666,
              "#ed7953"
             ],
             [
              0.7777777777777778,
              "#fb9f3a"
             ],
             [
              0.8888888888888888,
              "#fdca26"
             ],
             [
              1,
              "#f0f921"
             ]
            ],
            "type": "contour"
           }
          ],
          "contourcarpet": [
           {
            "colorbar": {
             "outlinewidth": 0,
             "ticks": ""
            },
            "type": "contourcarpet"
           }
          ],
          "heatmap": [
           {
            "colorbar": {
             "outlinewidth": 0,
             "ticks": ""
            },
            "colorscale": [
             [
              0,
              "#0d0887"
             ],
             [
              0.1111111111111111,
              "#46039f"
             ],
             [
              0.2222222222222222,
              "#7201a8"
             ],
             [
              0.3333333333333333,
              "#9c179e"
             ],
             [
              0.4444444444444444,
              "#bd3786"
             ],
             [
              0.5555555555555556,
              "#d8576b"
             ],
             [
              0.6666666666666666,
              "#ed7953"
             ],
             [
              0.7777777777777778,
              "#fb9f3a"
             ],
             [
              0.8888888888888888,
              "#fdca26"
             ],
             [
              1,
              "#f0f921"
             ]
            ],
            "type": "heatmap"
           }
          ],
          "heatmapgl": [
           {
            "colorbar": {
             "outlinewidth": 0,
             "ticks": ""
            },
            "colorscale": [
             [
              0,
              "#0d0887"
             ],
             [
              0.1111111111111111,
              "#46039f"
             ],
             [
              0.2222222222222222,
              "#7201a8"
             ],
             [
              0.3333333333333333,
              "#9c179e"
             ],
             [
              0.4444444444444444,
              "#bd3786"
             ],
             [
              0.5555555555555556,
              "#d8576b"
             ],
             [
              0.6666666666666666,
              "#ed7953"
             ],
             [
              0.7777777777777778,
              "#fb9f3a"
             ],
             [
              0.8888888888888888,
              "#fdca26"
             ],
             [
              1,
              "#f0f921"
             ]
            ],
            "type": "heatmapgl"
           }
          ],
          "histogram": [
           {
            "marker": {
             "pattern": {
              "fillmode": "overlay",
              "size": 10,
              "solidity": 0.2
             }
            },
            "type": "histogram"
           }
          ],
          "histogram2d": [
           {
            "colorbar": {
             "outlinewidth": 0,
             "ticks": ""
            },
            "colorscale": [
             [
              0,
              "#0d0887"
             ],
             [
              0.1111111111111111,
              "#46039f"
             ],
             [
              0.2222222222222222,
              "#7201a8"
             ],
             [
              0.3333333333333333,
              "#9c179e"
             ],
             [
              0.4444444444444444,
              "#bd3786"
             ],
             [
              0.5555555555555556,
              "#d8576b"
             ],
             [
              0.6666666666666666,
              "#ed7953"
             ],
             [
              0.7777777777777778,
              "#fb9f3a"
             ],
             [
              0.8888888888888888,
              "#fdca26"
             ],
             [
              1,
              "#f0f921"
             ]
            ],
            "type": "histogram2d"
           }
          ],
          "histogram2dcontour": [
           {
            "colorbar": {
             "outlinewidth": 0,
             "ticks": ""
            },
            "colorscale": [
             [
              0,
              "#0d0887"
             ],
             [
              0.1111111111111111,
              "#46039f"
             ],
             [
              0.2222222222222222,
              "#7201a8"
             ],
             [
              0.3333333333333333,
              "#9c179e"
             ],
             [
              0.4444444444444444,
              "#bd3786"
             ],
             [
              0.5555555555555556,
              "#d8576b"
             ],
             [
              0.6666666666666666,
              "#ed7953"
             ],
             [
              0.7777777777777778,
              "#fb9f3a"
             ],
             [
              0.8888888888888888,
              "#fdca26"
             ],
             [
              1,
              "#f0f921"
             ]
            ],
            "type": "histogram2dcontour"
           }
          ],
          "mesh3d": [
           {
            "colorbar": {
             "outlinewidth": 0,
             "ticks": ""
            },
            "type": "mesh3d"
           }
          ],
          "parcoords": [
           {
            "line": {
             "colorbar": {
              "outlinewidth": 0,
              "ticks": ""
             }
            },
            "type": "parcoords"
           }
          ],
          "pie": [
           {
            "automargin": true,
            "type": "pie"
           }
          ],
          "scatter": [
           {
            "fillpattern": {
             "fillmode": "overlay",
             "size": 10,
             "solidity": 0.2
            },
            "type": "scatter"
           }
          ],
          "scatter3d": [
           {
            "line": {
             "colorbar": {
              "outlinewidth": 0,
              "ticks": ""
             }
            },
            "marker": {
             "colorbar": {
              "outlinewidth": 0,
              "ticks": ""
             }
            },
            "type": "scatter3d"
           }
          ],
          "scattercarpet": [
           {
            "marker": {
             "colorbar": {
              "outlinewidth": 0,
              "ticks": ""
             }
            },
            "type": "scattercarpet"
           }
          ],
          "scattergeo": [
           {
            "marker": {
             "colorbar": {
              "outlinewidth": 0,
              "ticks": ""
             }
            },
            "type": "scattergeo"
           }
          ],
          "scattergl": [
           {
            "marker": {
             "colorbar": {
              "outlinewidth": 0,
              "ticks": ""
             }
            },
            "type": "scattergl"
           }
          ],
          "scattermapbox": [
           {
            "marker": {
             "colorbar": {
              "outlinewidth": 0,
              "ticks": ""
             }
            },
            "type": "scattermapbox"
           }
          ],
          "scatterpolar": [
           {
            "marker": {
             "colorbar": {
              "outlinewidth": 0,
              "ticks": ""
             }
            },
            "type": "scatterpolar"
           }
          ],
          "scatterpolargl": [
           {
            "marker": {
             "colorbar": {
              "outlinewidth": 0,
              "ticks": ""
             }
            },
            "type": "scatterpolargl"
           }
          ],
          "scatterternary": [
           {
            "marker": {
             "colorbar": {
              "outlinewidth": 0,
              "ticks": ""
             }
            },
            "type": "scatterternary"
           }
          ],
          "surface": [
           {
            "colorbar": {
             "outlinewidth": 0,
             "ticks": ""
            },
            "colorscale": [
             [
              0,
              "#0d0887"
             ],
             [
              0.1111111111111111,
              "#46039f"
             ],
             [
              0.2222222222222222,
              "#7201a8"
             ],
             [
              0.3333333333333333,
              "#9c179e"
             ],
             [
              0.4444444444444444,
              "#bd3786"
             ],
             [
              0.5555555555555556,
              "#d8576b"
             ],
             [
              0.6666666666666666,
              "#ed7953"
             ],
             [
              0.7777777777777778,
              "#fb9f3a"
             ],
             [
              0.8888888888888888,
              "#fdca26"
             ],
             [
              1,
              "#f0f921"
             ]
            ],
            "type": "surface"
           }
          ],
          "table": [
           {
            "cells": {
             "fill": {
              "color": "#EBF0F8"
             },
             "line": {
              "color": "white"
             }
            },
            "header": {
             "fill": {
              "color": "#C8D4E3"
             },
             "line": {
              "color": "white"
             }
            },
            "type": "table"
           }
          ]
         },
         "layout": {
          "annotationdefaults": {
           "arrowcolor": "#2a3f5f",
           "arrowhead": 0,
           "arrowwidth": 1
          },
          "autotypenumbers": "strict",
          "coloraxis": {
           "colorbar": {
            "outlinewidth": 0,
            "ticks": ""
           }
          },
          "colorscale": {
           "diverging": [
            [
             0,
             "#8e0152"
            ],
            [
             0.1,
             "#c51b7d"
            ],
            [
             0.2,
             "#de77ae"
            ],
            [
             0.3,
             "#f1b6da"
            ],
            [
             0.4,
             "#fde0ef"
            ],
            [
             0.5,
             "#f7f7f7"
            ],
            [
             0.6,
             "#e6f5d0"
            ],
            [
             0.7,
             "#b8e186"
            ],
            [
             0.8,
             "#7fbc41"
            ],
            [
             0.9,
             "#4d9221"
            ],
            [
             1,
             "#276419"
            ]
           ],
           "sequential": [
            [
             0,
             "#0d0887"
            ],
            [
             0.1111111111111111,
             "#46039f"
            ],
            [
             0.2222222222222222,
             "#7201a8"
            ],
            [
             0.3333333333333333,
             "#9c179e"
            ],
            [
             0.4444444444444444,
             "#bd3786"
            ],
            [
             0.5555555555555556,
             "#d8576b"
            ],
            [
             0.6666666666666666,
             "#ed7953"
            ],
            [
             0.7777777777777778,
             "#fb9f3a"
            ],
            [
             0.8888888888888888,
             "#fdca26"
            ],
            [
             1,
             "#f0f921"
            ]
           ],
           "sequentialminus": [
            [
             0,
             "#0d0887"
            ],
            [
             0.1111111111111111,
             "#46039f"
            ],
            [
             0.2222222222222222,
             "#7201a8"
            ],
            [
             0.3333333333333333,
             "#9c179e"
            ],
            [
             0.4444444444444444,
             "#bd3786"
            ],
            [
             0.5555555555555556,
             "#d8576b"
            ],
            [
             0.6666666666666666,
             "#ed7953"
            ],
            [
             0.7777777777777778,
             "#fb9f3a"
            ],
            [
             0.8888888888888888,
             "#fdca26"
            ],
            [
             1,
             "#f0f921"
            ]
           ]
          },
          "colorway": [
           "#636efa",
           "#EF553B",
           "#00cc96",
           "#ab63fa",
           "#FFA15A",
           "#19d3f3",
           "#FF6692",
           "#B6E880",
           "#FF97FF",
           "#FECB52"
          ],
          "font": {
           "color": "#2a3f5f"
          },
          "geo": {
           "bgcolor": "white",
           "lakecolor": "white",
           "landcolor": "#E5ECF6",
           "showlakes": true,
           "showland": true,
           "subunitcolor": "white"
          },
          "hoverlabel": {
           "align": "left"
          },
          "hovermode": "closest",
          "mapbox": {
           "style": "light"
          },
          "paper_bgcolor": "white",
          "plot_bgcolor": "#E5ECF6",
          "polar": {
           "angularaxis": {
            "gridcolor": "white",
            "linecolor": "white",
            "ticks": ""
           },
           "bgcolor": "#E5ECF6",
           "radialaxis": {
            "gridcolor": "white",
            "linecolor": "white",
            "ticks": ""
           }
          },
          "scene": {
           "xaxis": {
            "backgroundcolor": "#E5ECF6",
            "gridcolor": "white",
            "gridwidth": 2,
            "linecolor": "white",
            "showbackground": true,
            "ticks": "",
            "zerolinecolor": "white"
           },
           "yaxis": {
            "backgroundcolor": "#E5ECF6",
            "gridcolor": "white",
            "gridwidth": 2,
            "linecolor": "white",
            "showbackground": true,
            "ticks": "",
            "zerolinecolor": "white"
           },
           "zaxis": {
            "backgroundcolor": "#E5ECF6",
            "gridcolor": "white",
            "gridwidth": 2,
            "linecolor": "white",
            "showbackground": true,
            "ticks": "",
            "zerolinecolor": "white"
           }
          },
          "shapedefaults": {
           "line": {
            "color": "#2a3f5f"
           }
          },
          "ternary": {
           "aaxis": {
            "gridcolor": "white",
            "linecolor": "white",
            "ticks": ""
           },
           "baxis": {
            "gridcolor": "white",
            "linecolor": "white",
            "ticks": ""
           },
           "bgcolor": "#E5ECF6",
           "caxis": {
            "gridcolor": "white",
            "linecolor": "white",
            "ticks": ""
           }
          },
          "title": {
           "x": 0.05
          },
          "xaxis": {
           "automargin": true,
           "gridcolor": "white",
           "linecolor": "white",
           "ticks": "",
           "title": {
            "standoff": 15
           },
           "zerolinecolor": "white",
           "zerolinewidth": 2
          },
          "yaxis": {
           "automargin": true,
           "gridcolor": "white",
           "linecolor": "white",
           "ticks": "",
           "title": {
            "standoff": 15
           },
           "zerolinecolor": "white",
           "zerolinewidth": 2
          }
         }
        }
       }
      }
     },
     "metadata": {},
     "output_type": "display_data"
    }
   ],
   "source": [
    "import plotly.express as px\n",
    "df = px.data.gapminder().query(\"year == 2007\").query(\"continent == 'Americas'\")\n",
    "fig = px.pie(df, values='pop')\n",
    "fig.update_traces(textposition='inside', textinfo='percent+label')\n",
    "fig.show()"
   ]
  },
  {
   "cell_type": "code",
   "execution_count": 66,
   "metadata": {},
   "outputs": [
    {
     "data": {
      "text/html": [
       "<div>\n",
       "<style scoped>\n",
       "    .dataframe tbody tr th:only-of-type {\n",
       "        vertical-align: middle;\n",
       "    }\n",
       "\n",
       "    .dataframe tbody tr th {\n",
       "        vertical-align: top;\n",
       "    }\n",
       "\n",
       "    .dataframe thead th {\n",
       "        text-align: right;\n",
       "    }\n",
       "</style>\n",
       "<table border=\"1\" class=\"dataframe\">\n",
       "  <thead>\n",
       "    <tr style=\"text-align: right;\">\n",
       "      <th></th>\n",
       "      <th>country</th>\n",
       "      <th>continent</th>\n",
       "      <th>year</th>\n",
       "      <th>lifeExp</th>\n",
       "      <th>pop</th>\n",
       "      <th>gdpPercap</th>\n",
       "      <th>iso_alpha</th>\n",
       "      <th>iso_num</th>\n",
       "    </tr>\n",
       "  </thead>\n",
       "  <tbody>\n",
       "    <tr>\n",
       "      <th>59</th>\n",
       "      <td>Argentina</td>\n",
       "      <td>Americas</td>\n",
       "      <td>2007</td>\n",
       "      <td>75.320</td>\n",
       "      <td>40301927</td>\n",
       "      <td>12779.379640</td>\n",
       "      <td>ARG</td>\n",
       "      <td>32</td>\n",
       "    </tr>\n",
       "    <tr>\n",
       "      <th>143</th>\n",
       "      <td>Bolivia</td>\n",
       "      <td>Americas</td>\n",
       "      <td>2007</td>\n",
       "      <td>65.554</td>\n",
       "      <td>9119152</td>\n",
       "      <td>3822.137084</td>\n",
       "      <td>BOL</td>\n",
       "      <td>68</td>\n",
       "    </tr>\n",
       "    <tr>\n",
       "      <th>179</th>\n",
       "      <td>Brazil</td>\n",
       "      <td>Americas</td>\n",
       "      <td>2007</td>\n",
       "      <td>72.390</td>\n",
       "      <td>190010647</td>\n",
       "      <td>9065.800825</td>\n",
       "      <td>BRA</td>\n",
       "      <td>76</td>\n",
       "    </tr>\n",
       "    <tr>\n",
       "      <th>251</th>\n",
       "      <td>Canada</td>\n",
       "      <td>Americas</td>\n",
       "      <td>2007</td>\n",
       "      <td>80.653</td>\n",
       "      <td>33390141</td>\n",
       "      <td>36319.235010</td>\n",
       "      <td>CAN</td>\n",
       "      <td>124</td>\n",
       "    </tr>\n",
       "    <tr>\n",
       "      <th>287</th>\n",
       "      <td>Chile</td>\n",
       "      <td>Americas</td>\n",
       "      <td>2007</td>\n",
       "      <td>78.553</td>\n",
       "      <td>16284741</td>\n",
       "      <td>13171.638850</td>\n",
       "      <td>CHL</td>\n",
       "      <td>152</td>\n",
       "    </tr>\n",
       "    <tr>\n",
       "      <th>311</th>\n",
       "      <td>Colombia</td>\n",
       "      <td>Americas</td>\n",
       "      <td>2007</td>\n",
       "      <td>72.889</td>\n",
       "      <td>44227550</td>\n",
       "      <td>7006.580419</td>\n",
       "      <td>COL</td>\n",
       "      <td>170</td>\n",
       "    </tr>\n",
       "    <tr>\n",
       "      <th>359</th>\n",
       "      <td>Costa Rica</td>\n",
       "      <td>Americas</td>\n",
       "      <td>2007</td>\n",
       "      <td>78.782</td>\n",
       "      <td>4133884</td>\n",
       "      <td>9645.061420</td>\n",
       "      <td>CRI</td>\n",
       "      <td>188</td>\n",
       "    </tr>\n",
       "    <tr>\n",
       "      <th>395</th>\n",
       "      <td>Cuba</td>\n",
       "      <td>Americas</td>\n",
       "      <td>2007</td>\n",
       "      <td>78.273</td>\n",
       "      <td>11416987</td>\n",
       "      <td>8948.102923</td>\n",
       "      <td>CUB</td>\n",
       "      <td>192</td>\n",
       "    </tr>\n",
       "    <tr>\n",
       "      <th>443</th>\n",
       "      <td>Dominican Republic</td>\n",
       "      <td>Americas</td>\n",
       "      <td>2007</td>\n",
       "      <td>72.235</td>\n",
       "      <td>9319622</td>\n",
       "      <td>6025.374752</td>\n",
       "      <td>DOM</td>\n",
       "      <td>214</td>\n",
       "    </tr>\n",
       "    <tr>\n",
       "      <th>455</th>\n",
       "      <td>Ecuador</td>\n",
       "      <td>Americas</td>\n",
       "      <td>2007</td>\n",
       "      <td>74.994</td>\n",
       "      <td>13755680</td>\n",
       "      <td>6873.262326</td>\n",
       "      <td>ECU</td>\n",
       "      <td>218</td>\n",
       "    </tr>\n",
       "    <tr>\n",
       "      <th>479</th>\n",
       "      <td>El Salvador</td>\n",
       "      <td>Americas</td>\n",
       "      <td>2007</td>\n",
       "      <td>71.878</td>\n",
       "      <td>6939688</td>\n",
       "      <td>5728.353514</td>\n",
       "      <td>SLV</td>\n",
       "      <td>222</td>\n",
       "    </tr>\n",
       "    <tr>\n",
       "      <th>611</th>\n",
       "      <td>Guatemala</td>\n",
       "      <td>Americas</td>\n",
       "      <td>2007</td>\n",
       "      <td>70.259</td>\n",
       "      <td>12572928</td>\n",
       "      <td>5186.050003</td>\n",
       "      <td>GTM</td>\n",
       "      <td>320</td>\n",
       "    </tr>\n",
       "    <tr>\n",
       "      <th>647</th>\n",
       "      <td>Haiti</td>\n",
       "      <td>Americas</td>\n",
       "      <td>2007</td>\n",
       "      <td>60.916</td>\n",
       "      <td>8502814</td>\n",
       "      <td>1201.637154</td>\n",
       "      <td>HTI</td>\n",
       "      <td>332</td>\n",
       "    </tr>\n",
       "    <tr>\n",
       "      <th>659</th>\n",
       "      <td>Honduras</td>\n",
       "      <td>Americas</td>\n",
       "      <td>2007</td>\n",
       "      <td>70.198</td>\n",
       "      <td>7483763</td>\n",
       "      <td>3548.330846</td>\n",
       "      <td>HND</td>\n",
       "      <td>340</td>\n",
       "    </tr>\n",
       "    <tr>\n",
       "      <th>791</th>\n",
       "      <td>Jamaica</td>\n",
       "      <td>Americas</td>\n",
       "      <td>2007</td>\n",
       "      <td>72.567</td>\n",
       "      <td>2780132</td>\n",
       "      <td>7320.880262</td>\n",
       "      <td>JAM</td>\n",
       "      <td>388</td>\n",
       "    </tr>\n",
       "    <tr>\n",
       "      <th>995</th>\n",
       "      <td>Mexico</td>\n",
       "      <td>Americas</td>\n",
       "      <td>2007</td>\n",
       "      <td>76.195</td>\n",
       "      <td>108700891</td>\n",
       "      <td>11977.574960</td>\n",
       "      <td>MEX</td>\n",
       "      <td>484</td>\n",
       "    </tr>\n",
       "    <tr>\n",
       "      <th>1115</th>\n",
       "      <td>Nicaragua</td>\n",
       "      <td>Americas</td>\n",
       "      <td>2007</td>\n",
       "      <td>72.899</td>\n",
       "      <td>5675356</td>\n",
       "      <td>2749.320965</td>\n",
       "      <td>NIC</td>\n",
       "      <td>558</td>\n",
       "    </tr>\n",
       "    <tr>\n",
       "      <th>1187</th>\n",
       "      <td>Panama</td>\n",
       "      <td>Americas</td>\n",
       "      <td>2007</td>\n",
       "      <td>75.537</td>\n",
       "      <td>3242173</td>\n",
       "      <td>9809.185636</td>\n",
       "      <td>PAN</td>\n",
       "      <td>591</td>\n",
       "    </tr>\n",
       "    <tr>\n",
       "      <th>1199</th>\n",
       "      <td>Paraguay</td>\n",
       "      <td>Americas</td>\n",
       "      <td>2007</td>\n",
       "      <td>71.752</td>\n",
       "      <td>6667147</td>\n",
       "      <td>4172.838464</td>\n",
       "      <td>PRY</td>\n",
       "      <td>600</td>\n",
       "    </tr>\n",
       "    <tr>\n",
       "      <th>1211</th>\n",
       "      <td>Peru</td>\n",
       "      <td>Americas</td>\n",
       "      <td>2007</td>\n",
       "      <td>71.421</td>\n",
       "      <td>28674757</td>\n",
       "      <td>7408.905561</td>\n",
       "      <td>PER</td>\n",
       "      <td>604</td>\n",
       "    </tr>\n",
       "    <tr>\n",
       "      <th>1259</th>\n",
       "      <td>Puerto Rico</td>\n",
       "      <td>Americas</td>\n",
       "      <td>2007</td>\n",
       "      <td>78.746</td>\n",
       "      <td>3942491</td>\n",
       "      <td>19328.709010</td>\n",
       "      <td>PRI</td>\n",
       "      <td>630</td>\n",
       "    </tr>\n",
       "    <tr>\n",
       "      <th>1559</th>\n",
       "      <td>Trinidad and Tobago</td>\n",
       "      <td>Americas</td>\n",
       "      <td>2007</td>\n",
       "      <td>69.819</td>\n",
       "      <td>1056608</td>\n",
       "      <td>18008.509240</td>\n",
       "      <td>TTO</td>\n",
       "      <td>780</td>\n",
       "    </tr>\n",
       "    <tr>\n",
       "      <th>1619</th>\n",
       "      <td>United States</td>\n",
       "      <td>Americas</td>\n",
       "      <td>2007</td>\n",
       "      <td>78.242</td>\n",
       "      <td>301139947</td>\n",
       "      <td>42951.653090</td>\n",
       "      <td>USA</td>\n",
       "      <td>840</td>\n",
       "    </tr>\n",
       "    <tr>\n",
       "      <th>1631</th>\n",
       "      <td>Uruguay</td>\n",
       "      <td>Americas</td>\n",
       "      <td>2007</td>\n",
       "      <td>76.384</td>\n",
       "      <td>3447496</td>\n",
       "      <td>10611.462990</td>\n",
       "      <td>URY</td>\n",
       "      <td>858</td>\n",
       "    </tr>\n",
       "    <tr>\n",
       "      <th>1643</th>\n",
       "      <td>Venezuela</td>\n",
       "      <td>Americas</td>\n",
       "      <td>2007</td>\n",
       "      <td>73.747</td>\n",
       "      <td>26084662</td>\n",
       "      <td>11415.805690</td>\n",
       "      <td>VEN</td>\n",
       "      <td>862</td>\n",
       "    </tr>\n",
       "  </tbody>\n",
       "</table>\n",
       "</div>"
      ],
      "text/plain": [
       "                  country continent  year  lifeExp        pop     gdpPercap  \\\n",
       "59              Argentina  Americas  2007   75.320   40301927  12779.379640   \n",
       "143               Bolivia  Americas  2007   65.554    9119152   3822.137084   \n",
       "179                Brazil  Americas  2007   72.390  190010647   9065.800825   \n",
       "251                Canada  Americas  2007   80.653   33390141  36319.235010   \n",
       "287                 Chile  Americas  2007   78.553   16284741  13171.638850   \n",
       "311              Colombia  Americas  2007   72.889   44227550   7006.580419   \n",
       "359            Costa Rica  Americas  2007   78.782    4133884   9645.061420   \n",
       "395                  Cuba  Americas  2007   78.273   11416987   8948.102923   \n",
       "443    Dominican Republic  Americas  2007   72.235    9319622   6025.374752   \n",
       "455               Ecuador  Americas  2007   74.994   13755680   6873.262326   \n",
       "479           El Salvador  Americas  2007   71.878    6939688   5728.353514   \n",
       "611             Guatemala  Americas  2007   70.259   12572928   5186.050003   \n",
       "647                 Haiti  Americas  2007   60.916    8502814   1201.637154   \n",
       "659              Honduras  Americas  2007   70.198    7483763   3548.330846   \n",
       "791               Jamaica  Americas  2007   72.567    2780132   7320.880262   \n",
       "995                Mexico  Americas  2007   76.195  108700891  11977.574960   \n",
       "1115            Nicaragua  Americas  2007   72.899    5675356   2749.320965   \n",
       "1187               Panama  Americas  2007   75.537    3242173   9809.185636   \n",
       "1199             Paraguay  Americas  2007   71.752    6667147   4172.838464   \n",
       "1211                 Peru  Americas  2007   71.421   28674757   7408.905561   \n",
       "1259          Puerto Rico  Americas  2007   78.746    3942491  19328.709010   \n",
       "1559  Trinidad and Tobago  Americas  2007   69.819    1056608  18008.509240   \n",
       "1619        United States  Americas  2007   78.242  301139947  42951.653090   \n",
       "1631              Uruguay  Americas  2007   76.384    3447496  10611.462990   \n",
       "1643            Venezuela  Americas  2007   73.747   26084662  11415.805690   \n",
       "\n",
       "     iso_alpha  iso_num  \n",
       "59         ARG       32  \n",
       "143        BOL       68  \n",
       "179        BRA       76  \n",
       "251        CAN      124  \n",
       "287        CHL      152  \n",
       "311        COL      170  \n",
       "359        CRI      188  \n",
       "395        CUB      192  \n",
       "443        DOM      214  \n",
       "455        ECU      218  \n",
       "479        SLV      222  \n",
       "611        GTM      320  \n",
       "647        HTI      332  \n",
       "659        HND      340  \n",
       "791        JAM      388  \n",
       "995        MEX      484  \n",
       "1115       NIC      558  \n",
       "1187       PAN      591  \n",
       "1199       PRY      600  \n",
       "1211       PER      604  \n",
       "1259       PRI      630  \n",
       "1559       TTO      780  \n",
       "1619       USA      840  \n",
       "1631       URY      858  \n",
       "1643       VEN      862  "
      ]
     },
     "execution_count": 66,
     "metadata": {},
     "output_type": "execute_result"
    }
   ],
   "source": [
    "df"
   ]
  },
  {
   "cell_type": "code",
   "execution_count": null,
   "metadata": {},
   "outputs": [],
   "source": []
  }
 ],
 "metadata": {
  "interpreter": {
   "hash": "dc3513150b0b369af9442c8933904ddaf9a72c25131a84e18fbbba9202e4b592"
  },
  "kernelspec": {
   "display_name": "Python 3.9.7 ('data_tracking-hZPCthQN')",
   "language": "python",
   "name": "python3"
  },
  "language_info": {
   "codemirror_mode": {
    "name": "ipython",
    "version": 3
   },
   "file_extension": ".py",
   "mimetype": "text/x-python",
   "name": "python",
   "nbconvert_exporter": "python",
   "pygments_lexer": "ipython3",
   "version": "3.9.7"
  },
  "orig_nbformat": 4
 },
 "nbformat": 4,
 "nbformat_minor": 2
}
